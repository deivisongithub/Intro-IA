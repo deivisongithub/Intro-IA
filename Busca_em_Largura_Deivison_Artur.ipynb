{
 "cells": [
  {
   "cell_type": "code",
   "execution_count": 1,
   "metadata": {},
   "outputs": [],
   "source": [
    "# Aluno: ARTUR LUIS BRITO GURJAO   /   Matricula: 20200024903\n",
    "# Aluno: DEIVISON RODRIGUES JORDAO /   Matricula: 20200023728"
   ]
  },
  {
   "cell_type": "code",
   "execution_count": 2,
   "metadata": {
    "id": "k4BbLtFDrf1p"
   },
   "outputs": [],
   "source": [
    "def acao(destino, custo):\n",
    "  return {'destino': destino, 'custo': custo}"
   ]
  },
  {
   "cell_type": "code",
   "execution_count": 3,
   "metadata": {
    "id": "SoA2byeKusg3"
   },
   "outputs": [],
   "source": [
    "estadosRomenia = [\n",
    "    {\n",
    "        'estado': 'Arad',\n",
    "        'acoes': [ acao('Zerind', 75), acao('Sibiu', 140), acao('Timisoara', 118) ]\n",
    "    },\n",
    "\n",
    "    {\n",
    "        'estado': 'Zerind',\n",
    "        'acoes': [ acao('Arad', 75), acao('Oradea', 71) ]\n",
    "    },\n",
    "\n",
    "    {\n",
    "        'estado': 'Timisoara',\n",
    "        'acoes': [ acao('Arad', 118), acao('Lugoj', 111) ]\n",
    "    },\n",
    "\n",
    "    {\n",
    "        'estado': 'Sibiu',\n",
    "        'acoes': [ acao('Arad', 140), acao('Oradea', 151), acao('Fagaras', 99),\n",
    "                 acao('Rimnicu Vilcea', 80)]\n",
    "    },\n",
    "\n",
    "    {\n",
    "        'estado': 'Oradea',\n",
    "        'acoes': [ acao('Zerind', 71), acao('Sibiu', 151) ]\n",
    "    },\n",
    "\n",
    "    {\n",
    "        'estado': 'Lugoj',\n",
    "        'acoes': [ acao('Timisoara', 111), acao('Mehadia', 70) ]\n",
    "    },\n",
    "\n",
    "    {\n",
    "        'estado': 'Mehadia',\n",
    "        'acoes': [ acao('Lugoj', 70), acao('Drobeta', 75) ]\n",
    "    },\n",
    "\n",
    "    {\n",
    "        'estado': 'Drobeta',\n",
    "        'acoes': [ acao('Mehadia', 75), acao('Craiova', 120) ]\n",
    "    },\n",
    "\n",
    "    {\n",
    "        'estado': 'Craiova',\n",
    "        'acoes': [ acao('Drobeta', 120), acao('Rimnicu Vilcea', 146), acao('Pitesti', 138) ]\n",
    "    },\n",
    "\n",
    "    {\n",
    "        'estado': 'Rimnicu Vilcea',\n",
    "        'acoes': [ acao('Sibiu', 80), acao('Craiova', 146), acao('Pitesti', 97) ]\n",
    "    },\n",
    "\n",
    "    {\n",
    "        'estado': 'Fagaras',\n",
    "        'acoes': [ acao('Sibiu', 99), acao('Bucharest', 211) ]\n",
    "    },\n",
    "\n",
    "    {\n",
    "        'estado': 'Pitesti',\n",
    "        'acoes': [ acao('Rimnicu Vilcea', 97), acao('Craiova', 138), acao('Bucharest', 101) ]\n",
    "    },\n",
    "\n",
    "    {\n",
    "        'estado': 'Giurgiu',\n",
    "        'acoes': [ acao('Bucharest', 90) ]\n",
    "    },\n",
    "\n",
    "    {\n",
    "        'estado': 'Bucharest',\n",
    "        'acoes': [ acao('Fagaras', 211), acao('Pitesti', 101), acao('Giurgiu', 90),\n",
    "                 acao('Urziceni', 85) ]\n",
    "    },\n",
    "\n",
    "    {\n",
    "        'estado': 'Urziceni',\n",
    "        'acoes': [ acao('Bucharest', 85), acao('Vaslui', 142), acao('Hirsova', 98) ]\n",
    "    },\n",
    "\n",
    "    {\n",
    "        'estado': 'Hirsova',\n",
    "        'acoes': [ acao('Urziceni', 98), acao('Eforie', 86) ]\n",
    "    },\n",
    "\n",
    "    {\n",
    "        'estado': 'Eforie',\n",
    "        'acoes': [ acao('Hirsova', 86) ]\n",
    "    },\n",
    "\n",
    "    {\n",
    "        'estado': 'Vaslui',\n",
    "       'acoes': [ acao('Urziceni', 142), acao('Iasi', 92) ]\n",
    "    },\n",
    "\n",
    "    {\n",
    "        'estado': 'Iasi',\n",
    "        'acoes': [ acao('Vaslui', 92), acao('Neamt', 87) ]\n",
    "    },\n",
    "\n",
    "    {\n",
    "        'estado': 'Neamt',\n",
    "        'acoes': [ acao('Iasi', 87) ]\n",
    "    }\n",
    "]"
   ]
  },
  {
   "cell_type": "code",
   "execution_count": 4,
   "metadata": {
    "id": "7qpS99NqudSX"
   },
   "outputs": [],
   "source": [
    "class No():\n",
    "  def __init__(self, estado, custo, pai, acao):\n",
    "    self.estado = estado\n",
    "    self.custo = custo\n",
    "    self.pai = pai\n",
    "    self.acao = acao\n",
    "\n",
    "  def toString(self):\n",
    "    (str(self.estado), str(self.custo))\n",
    "  \n",
    "  def filhos(self, problema):\n",
    "    estado_acoes = findEstado(problema, self.estado)\n",
    "\n",
    "    if estado_acoes == []:\n",
    "      return []\n",
    "\n",
    "    resultado = []\n",
    "    for acao in estado_acoes['acoes']:\n",
    "      novoNo = No(acao['destino'], self.custo + acao['custo'], self, acao['destino'])\n",
    "      resultado.append(novoNo)\n",
    "    \n",
    "    return resultado\n",
    "  \n",
    "  def constroiSolucao(self):\n",
    "    no = self;\n",
    "    solucao = []\n",
    "\n",
    "    while no != None:\n",
    "      solucao.insert(0, no)\n",
    "      no = no.pai\n",
    "\n",
    "    return solucao"
   ]
  },
  {
   "cell_type": "code",
   "execution_count": 5,
   "metadata": {
    "id": "ofpxgdnPeMLe"
   },
   "outputs": [],
   "source": [
    "#constantes para situacao atual da busca\n",
    "BUSCA_INICIANDO = 0;\n",
    "BUSCA_EM_CURSO = 1;\n",
    "BUSCA_FALHA = 2;\n",
    "BUSCA_SUCESSO = 3;"
   ]
  },
  {
   "cell_type": "code",
   "execution_count": 6,
   "metadata": {
    "id": "NnTW4T-J4UsX"
   },
   "outputs": [],
   "source": [
    "def findEstado(problema, estado):#let estado_acoes = problema.espacoEstados.find(ea => this.estado == ea.estado);\n",
    "  for i in problema.espacoEstados:\n",
    "    if i['estado'] == estado:\n",
    "      return i\n",
    "  return None"
   ]
  },
  {
   "cell_type": "code",
   "execution_count": 7,
   "metadata": {
    "id": "1WH0zXMmf0Mp"
   },
   "outputs": [],
   "source": [
    "class BuscaLargura():\n",
    "  def __init__(self, problema):\n",
    "    self.problema = problema\n",
    "    self.fronteira = [problema.inicial]\n",
    "    self.visitados = [problema.inicial.estado]\n",
    "    self.situacao = BUSCA_INICIANDO\n",
    "    self.solucao = []\n",
    "\n",
    "  def efetuarBusca(self):\n",
    "    while (self.situacao != BUSCA_FALHA and self.situacao != BUSCA_SUCESSO):\n",
    "      self.passoBusca()\n",
    "\n",
    "    if (self.situacao == BUSCA_FALHA):\n",
    "      print(\"Busca falhou\")\n",
    "    else:\n",
    "      print(\"\\nSolução encontrada: \")\n",
    "      self.mostraSolucao()\n",
    "\n",
    "  def passoBusca(self):\n",
    "    if self.situacao == BUSCA_FALHA:\n",
    "      print(\"Busca falhou\")\n",
    "      return\n",
    "    if self.situacao == BUSCA_SUCESSO:\n",
    "      print(\"Busca encontrou a solucao\")\n",
    "      return\n",
    "\n",
    "    if len(self.fronteira) > 0:\n",
    "      no = self.fronteira[0]\n",
    "      self.fronteira.pop(0)\n",
    "    else:\n",
    "      no = []\n",
    "\n",
    "    if no == []:\n",
    "      self.situacao = BUSCA_FALHA\n",
    "      return\n",
    "\n",
    "    print('no atual: ' + no.estado + ' - custo: ' + str(no.custo));\n",
    "\n",
    "    if self.problema.objetivo == no.estado:\n",
    "        self.solucao = no.constroiSolucao();\n",
    "        self.situacao = BUSCA_SUCESSO;\n",
    "        return;\n",
    "\n",
    "    for filho in no.filhos(self.problema):\n",
    "      if filho not in self.fronteira and self.visitado(filho.estado) == False:\n",
    "        self.fronteira.append(filho)\n",
    "        self.visitados.append(filho.estado)\n",
    "\n",
    "  def visitado(self, estado):\n",
    "    if estado in self.visitados:\n",
    "      return True\n",
    "    return False\n",
    "\n",
    "  def mostraSolucao(self):\n",
    "    for i in self.solucao:\n",
    "        if i.estado != None:\n",
    "            if i == self.solucao[0]:\n",
    "                print(f'({i.estado}, {i.custo})', end='')\n",
    "            else:\n",
    "                print(f' -> ({i.estado}, {i.custo})', end='')\n",
    "    print(' | custo: ' + str(i.custo), end='')"
   ]
  },
  {
   "cell_type": "code",
   "execution_count": 8,
   "metadata": {
    "id": "1X3rCSS2wUIg"
   },
   "outputs": [],
   "source": [
    "class Problema():\n",
    "  def __init__(self, inicial, objetivo, espacoEstados):\n",
    "    self.inicial = inicial\n",
    "    self.objetivo = objetivo\n",
    "    self.espacoEstados = espacoEstados"
   ]
  },
  {
   "cell_type": "code",
   "execution_count": 9,
   "metadata": {
    "id": "HGXohR5oITBE"
   },
   "outputs": [],
   "source": [
    "def shift(lst):\n",
    "  if len(lst) == 0:\n",
    "    return None\n",
    "  else:\n",
    "    lst.pop(0)\n",
    "    if len(lst) == 0:\n",
    "      return None\n",
    "    else:\n",
    "      return lst[0]"
   ]
  },
  {
   "cell_type": "code",
   "execution_count": 10,
   "metadata": {
    "colab": {
     "base_uri": "https://localhost:8080/"
    },
    "id": "gdRY9-ZmufZa",
    "outputId": "0ce3e19b-631f-4127-d7d2-5de02f323016"
   },
   "outputs": [
    {
     "name": "stdout",
     "output_type": "stream",
     "text": [
      "no atual: Arad - custo: 0\n",
      "no atual: Zerind - custo: 75\n",
      "no atual: Sibiu - custo: 140\n",
      "no atual: Timisoara - custo: 118\n",
      "no atual: Oradea - custo: 146\n",
      "no atual: Fagaras - custo: 239\n",
      "no atual: Rimnicu Vilcea - custo: 220\n",
      "no atual: Lugoj - custo: 229\n",
      "no atual: Bucharest - custo: 450\n",
      "\n",
      "Solução encontrada: \n",
      "(Arad, 0) -> (Sibiu, 140) -> (Fagaras, 239) -> (Bucharest, 450) | custo: 450"
     ]
    }
   ],
   "source": [
    "no_arad = No('Arad', 0, None, None)\n",
    "problemaRomenia = Problema(no_arad, 'Bucharest', estadosRomenia)\n",
    "solve = BuscaLargura(problemaRomenia)\n",
    "solve.efetuarBusca()"
   ]
  },
  {
   "cell_type": "code",
   "execution_count": 11,
   "metadata": {},
   "outputs": [
    {
     "name": "stdout",
     "output_type": "stream",
     "text": [
      "(Arad, 0) -> (Sibiu, 140) -> (Fagaras, 239) -> (Bucharest, 450) | custo: 450"
     ]
    }
   ],
   "source": [
    "solve.mostraSolucao()"
   ]
  },
  {
   "cell_type": "code",
   "execution_count": null,
   "metadata": {},
   "outputs": [],
   "source": []
  }
 ],
 "metadata": {
  "colab": {
   "collapsed_sections": [],
   "name": "Busca em Largura.ipynb",
   "provenance": []
  },
  "kernelspec": {
   "display_name": "Python 3 (ipykernel)",
   "language": "python",
   "name": "python3"
  },
  "language_info": {
   "codemirror_mode": {
    "name": "ipython",
    "version": 3
   },
   "file_extension": ".py",
   "mimetype": "text/x-python",
   "name": "python",
   "nbconvert_exporter": "python",
   "pygments_lexer": "ipython3",
   "version": "3.9.7"
  }
 },
 "nbformat": 4,
 "nbformat_minor": 1
}

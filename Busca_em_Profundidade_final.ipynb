{
  "nbformat": 4,
  "nbformat_minor": 0,
  "metadata": {
    "colab": {
      "name": "Busca_em_Profundidade.ipynb",
      "provenance": [],
      "collapsed_sections": [],
      "include_colab_link": true
    },
    "kernelspec": {
      "name": "python3",
      "display_name": "Python 3"
    },
    "language_info": {
      "name": "python"
    }
  },
  "cells": [
    {
      "cell_type": "markdown",
      "metadata": {
        "id": "view-in-github",
        "colab_type": "text"
      },
      "source": [
        "<a href=\"https://colab.research.google.com/github/deivisongithub/Intro-IA/blob/main/Busca_em_Profundidade_final.ipynb\" target=\"_parent\"><img src=\"https://colab.research.google.com/assets/colab-badge.svg\" alt=\"Open In Colab\"/></a>"
      ]
    },
    {
      "cell_type": "code",
      "source": [
        "def action(destiny, cost):\n",
        "  return {'destiny': destiny, 'cost': cost}"
      ],
      "metadata": {
        "id": "ZuNXOsdrJWiA"
      },
      "execution_count": null,
      "outputs": []
    },
    {
      "cell_type": "code",
      "source": [
        "romaniaStates = [\n",
        "    {\n",
        "        'state': 'Arad',\n",
        "        'actions': [ action('Zerind', 75), action('Sibiu', 140), action('Timisoara', 118) ]\n",
        "    },\n",
        "\n",
        "    {\n",
        "        'state': 'Zerind',\n",
        "        'actions': [ action('Arad', 75), action('Oradea', 71) ]\n",
        "    },\n",
        "\n",
        "    {\n",
        "        'state': 'Timisoara',\n",
        "        'actions': [ action('Arad', 118), action('Lugoj', 111) ]\n",
        "    },\n",
        "\n",
        "    {\n",
        "        'state': 'Sibiu',\n",
        "        'actions': [ action('Arad', 140), action('Oradea', 151), action('Fagaras', 99),\n",
        "                 action('Rimnicu Vilcea', 80)]\n",
        "    },\n",
        "\n",
        "    {\n",
        "        'state': 'Oradea',\n",
        "        'actions': [ action('Zerind', 71), action('Sibiu', 151) ]\n",
        "    },\n",
        "\n",
        "    {\n",
        "        'state': 'Lugoj',\n",
        "        'actions': [ action('Timisoara', 111), action('Mehadia', 70) ]\n",
        "    },\n",
        "\n",
        "    {\n",
        "        'state': 'Mehadia',\n",
        "        'actions': [ action('Lugoj', 70), action('Drobeta', 75) ]\n",
        "    },\n",
        "\n",
        "    {\n",
        "        'state': 'Drobeta',\n",
        "        'actions': [ action('Mehadia', 75), action('Craiova', 120) ]\n",
        "    },\n",
        "\n",
        "    {\n",
        "        'state': 'Craiova',\n",
        "        'actions': [ action('Drobeta', 120), action('Rimnicu Vilcea', 146), action('Pitesti', 138) ]\n",
        "    },\n",
        "\n",
        "    {\n",
        "        'state': 'Rimnicu Vilcea',\n",
        "        'actions': [ action('Sibiu', 80), action('Craiova', 146), action('Pitesti', 97) ]\n",
        "    },\n",
        "\n",
        "    {\n",
        "        'state': 'Fagaras',\n",
        "        'actions': [ action('Sibiu', 99), action('Bucharest', 211) ]\n",
        "    },\n",
        "\n",
        "    {\n",
        "        'state': 'Pitesti',\n",
        "        'actions': [ action('Rimnicu Vilcea', 97), action('Craiova', 138), action('Bucharest', 101) ]\n",
        "    },\n",
        "\n",
        "    {\n",
        "        'state': 'Giurgiu',\n",
        "        'actions': [ action('Bucharest', 90) ]\n",
        "    },\n",
        "\n",
        "    {\n",
        "        'state': 'Bucharest',\n",
        "        'actions': [ action('Fagaras', 211), action('Pitesti', 101), action('Giurgiu', 90),\n",
        "                 action('Urziceni', 85) ]\n",
        "    },\n",
        "\n",
        "    {\n",
        "        'state': 'Urziceni',\n",
        "        'actions': [ action('Bucharest', 85), action('Vaslui', 142), action('Hirsova', 98) ]\n",
        "    },\n",
        "\n",
        "    {\n",
        "        'state': 'Hirsova',\n",
        "        'actions': [ action('Urziceni', 98), action('Eforie', 86) ]\n",
        "    },\n",
        "\n",
        "    {\n",
        "        'state': 'Eforie',\n",
        "        'actions': [ action('Hirsova', 86) ]\n",
        "    },\n",
        "\n",
        "    {\n",
        "        'state': 'Vaslui',\n",
        "       'actions': [ action('Urziceni', 142), action('Iasi', 92) ]\n",
        "    },\n",
        "\n",
        "    {\n",
        "        'state': 'Iasi',\n",
        "        'actions': [ action('Vaslui', 92), action('Neamt', 87) ]\n",
        "    },\n",
        "\n",
        "    {\n",
        "        'state': 'Neamt',\n",
        "        'actions': [ action('Iasi', 87) ]\n",
        "    }\n",
        "]\n"
      ],
      "metadata": {
        "id": "Tp2F27SMPkQc"
      },
      "execution_count": null,
      "outputs": []
    },
    {
      "cell_type": "code",
      "source": [
        "class Node():\n",
        "  def __init__(self, state, cost, father, action):\n",
        "    self.state = state\n",
        "    self.cost = cost\n",
        "    self.father = father\n",
        "    self.action = action\n",
        "  \n",
        "  def childrens(self, problem):\n",
        "    state_actions = findstate(problem, self.state)\n",
        "\n",
        "    if state_actions == []:\n",
        "      return []\n",
        "\n",
        "    result = []\n",
        "    for action in state_actions['actions']:\n",
        "      new_no = Node(action['destiny'], self.cost + action['cost'], self, action['destiny'])\n",
        "      result.append(new_no)\n",
        "    \n",
        "    return result\n",
        "  \n",
        "  def constroisolution(self):\n",
        "    node = self;\n",
        "    solution = []\n",
        "\n",
        "    while node != None:\n",
        "      solution.insert(0, node)\n",
        "      node = node.father\n",
        "\n",
        "    return solution"
      ],
      "metadata": {
        "id": "5R4Ud478QqlQ"
      },
      "execution_count": null,
      "outputs": []
    },
    {
      "cell_type": "code",
      "source": [
        "#constants for current search status\n",
        "SEARCH_STARTING = 0;\n",
        "SEARCH_IN_PROGRESS = 1;\n",
        "SEARCH_FAILED = 2;\n",
        "SEARCH_SUCCESS = 3;"
      ],
      "metadata": {
        "id": "DD55JMQ-Qqpy"
      },
      "execution_count": null,
      "outputs": []
    },
    {
      "cell_type": "code",
      "source": [
        "def findstate(problem, state):\n",
        "  for i in problem.spaceStates:\n",
        "    if i['state'] == state:\n",
        "      return i\n",
        "  return None"
      ],
      "metadata": {
        "id": "8qkEW_jlQuF4"
      },
      "execution_count": null,
      "outputs": []
    },
    {
      "cell_type": "code",
      "source": [
        "class Problem():\n",
        "  def __init__(self, initial, objective, spaceStates):\n",
        "    self.initial = initial\n",
        "    self.objective = objective\n",
        "    self.spaceStates = spaceStates"
      ],
      "metadata": {
        "id": "AMNhM2EHQumZ"
      },
      "execution_count": null,
      "outputs": []
    },
    {
      "cell_type": "code",
      "source": [
        "class DepthSearch():\n",
        "  def __init__(self, problem):\n",
        "    self.problem = problem\n",
        "    self.border = [problem.initial]\n",
        "    self.visited = [problem.initial.state]\n",
        "    self.situation = SEARCH_STARTING\n",
        "    self.solution = []\n",
        "\n",
        "  def Search(self):\n",
        "    while (self.situation != SEARCH_FAILED and self.situation != SEARCH_SUCCESS):\n",
        "      self.stepSearch()\n",
        "\n",
        "    if (self.situation == SEARCH_FAILED):\n",
        "      print(\"Search failed\")\n",
        "    else:\n",
        "      print(\"\\nSolution found: \")\n",
        "      self.showSolution()\n",
        "\n",
        "  def stepSearch(self):\n",
        "    if self.situation == SEARCH_FAILED:\n",
        "      print(\"Search failed\")\n",
        "      return\n",
        "    if self.situation == SEARCH_SUCCESS:\n",
        "      print(\"Search found the solution\")\n",
        "      return\n",
        "\n",
        "    if len(self.border) > 0:\n",
        "      node = self.border[0]\n",
        "      self.border.pop(0)\n",
        "    else:\n",
        "      node = []\n",
        "\n",
        "    if node == []:\n",
        "      self.situation = SEARCH_FAILED\n",
        "      return\n",
        "\n",
        "    print('Current state: ' + node.state + ' - Total Cost: ' + str(node.cost));\n",
        "\n",
        "    if self.problem.objective == node.state:\n",
        "        self.solution = node.constroisolution();\n",
        "        self.situation = SEARCH_SUCCESS;\n",
        "        return;\n",
        "\n",
        "    for children in node.childrens(self.problem):\n",
        "      if children not in self.border and self.visitado(children.state) == False:\n",
        "        #self.border.append(children)\n",
        "        self.border.insert(0, children)\n",
        "        self.visited.append(children.state)\n",
        "    \n",
        "    print('Possible paths: ')\n",
        "    for i in self.problem.spaceStates:\n",
        "      if i['state']== node.state:\n",
        "        print(i['actions'])\n",
        "    print()\n",
        "\n",
        "  def visitado(self, state):\n",
        "    if state in self.visited:\n",
        "      return True\n",
        "    return False\n",
        "\n",
        "  def showSolution(self):\n",
        "    for i in self.solution:\n",
        "      if i.state != None:\n",
        "          if i == self.solution[0]:\n",
        "              print(f'({i.state}, {i.cost})', end='')\n",
        "          else:\n",
        "              print(f' -> ({i.state}, {i.cost})', end='')\n",
        "      print(' | Total Cost: ' + str(i.cost), end='')\n"
      ],
      "metadata": {
        "id": "k72lhYjlPycb"
      },
      "execution_count": null,
      "outputs": []
    },
    {
      "cell_type": "code",
      "source": [
        "node_arad = Node('Arad', 0, None, None)\n",
        "romaniaProblem = Problem(node_arad, 'Bucharest', romaniaStates)   #arad to bucharest path\n",
        "solve = DepthSearch(romaniaProblem)"
      ],
      "metadata": {
        "id": "6V7f8jAnORJS"
      },
      "execution_count": null,
      "outputs": []
    },
    {
      "cell_type": "code",
      "source": [
        "solve.Search()"
      ],
      "metadata": {
        "colab": {
          "base_uri": "https://localhost:8080/"
        },
        "id": "zSTlnousOfug",
        "outputId": "a23de7ff-9f6d-4527-aca9-3e1fb6558a81"
      },
      "execution_count": null,
      "outputs": [
        {
          "output_type": "stream",
          "name": "stdout",
          "text": [
            "Current state: Arad - Total Cost: 0\n",
            "Possible paths: \n",
            "[{'destiny': 'Zerind', 'cost': 75}, {'destiny': 'Sibiu', 'cost': 140}, {'destiny': 'Timisoara', 'cost': 118}]\n",
            "\n",
            "Current state: Timisoara - Total Cost: 118\n",
            "Possible paths: \n",
            "[{'destiny': 'Arad', 'cost': 118}, {'destiny': 'Lugoj', 'cost': 111}]\n",
            "\n",
            "Current state: Lugoj - Total Cost: 229\n",
            "Possible paths: \n",
            "[{'destiny': 'Timisoara', 'cost': 111}, {'destiny': 'Mehadia', 'cost': 70}]\n",
            "\n",
            "Current state: Mehadia - Total Cost: 299\n",
            "Possible paths: \n",
            "[{'destiny': 'Lugoj', 'cost': 70}, {'destiny': 'Drobeta', 'cost': 75}]\n",
            "\n",
            "Current state: Drobeta - Total Cost: 374\n",
            "Possible paths: \n",
            "[{'destiny': 'Mehadia', 'cost': 75}, {'destiny': 'Craiova', 'cost': 120}]\n",
            "\n",
            "Current state: Craiova - Total Cost: 494\n",
            "Possible paths: \n",
            "[{'destiny': 'Drobeta', 'cost': 120}, {'destiny': 'Rimnicu Vilcea', 'cost': 146}, {'destiny': 'Pitesti', 'cost': 138}]\n",
            "\n",
            "Current state: Pitesti - Total Cost: 632\n",
            "Possible paths: \n",
            "[{'destiny': 'Rimnicu Vilcea', 'cost': 97}, {'destiny': 'Craiova', 'cost': 138}, {'destiny': 'Bucharest', 'cost': 101}]\n",
            "\n",
            "Current state: Bucharest - Total Cost: 733\n",
            "\n",
            "Solution found: \n",
            "(Arad, 0) | Total Cost: 0 -> (Timisoara, 118) | Total Cost: 118 -> (Lugoj, 229) | Total Cost: 229 -> (Mehadia, 299) | Total Cost: 299 -> (Drobeta, 374) | Total Cost: 374 -> (Craiova, 494) | Total Cost: 494 -> (Pitesti, 632) | Total Cost: 632 -> (Bucharest, 733) | Total Cost: 733"
          ]
        }
      ]
    }
  ]
}